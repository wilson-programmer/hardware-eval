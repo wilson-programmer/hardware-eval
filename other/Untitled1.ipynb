{
 "cells": [
  {
   "cell_type": "code",
   "execution_count": 1,
   "id": "875b906b",
   "metadata": {},
   "outputs": [
    {
     "ename": "NameError",
     "evalue": "name 'link' is not defined",
     "output_type": "error",
     "traceback": [
      "\u001b[0;31m---------------------------------------------------------------------------\u001b[0m",
      "\u001b[0;31mNameError\u001b[0m                                 Traceback (most recent call last)",
      "\u001b[0;32m/tmp/ipykernel_268134/3335640639.py\u001b[0m in \u001b[0;36m<module>\u001b[0;34m\u001b[0m\n\u001b[1;32m      2\u001b[0m \u001b[0;32mimport\u001b[0m \u001b[0mrequests\u001b[0m\u001b[0;34m\u001b[0m\u001b[0;34m\u001b[0m\u001b[0m\n\u001b[1;32m      3\u001b[0m \u001b[0;32mfrom\u001b[0m \u001b[0mbs4\u001b[0m \u001b[0;32mimport\u001b[0m \u001b[0mBeautifulSoup\u001b[0m\u001b[0;34m\u001b[0m\u001b[0;34m\u001b[0m\u001b[0m\n\u001b[0;32m----> 4\u001b[0;31m \u001b[0mreqs\u001b[0m \u001b[0;34m=\u001b[0m \u001b[0mrequests\u001b[0m\u001b[0;34m.\u001b[0m\u001b[0mget\u001b[0m\u001b[0;34m(\u001b[0m\u001b[0mlink\u001b[0m\u001b[0;34m)\u001b[0m\u001b[0;34m\u001b[0m\u001b[0;34m\u001b[0m\u001b[0m\n\u001b[0m\u001b[1;32m      5\u001b[0m \u001b[0msoup\u001b[0m \u001b[0;34m=\u001b[0m \u001b[0mBeautifulSoup\u001b[0m\u001b[0;34m(\u001b[0m\u001b[0mreqs\u001b[0m\u001b[0;34m.\u001b[0m\u001b[0mtext\u001b[0m\u001b[0;34m,\u001b[0m \u001b[0;34m'html.parser'\u001b[0m\u001b[0;34m)\u001b[0m\u001b[0;34m\u001b[0m\u001b[0;34m\u001b[0m\u001b[0m\n",
      "\u001b[0;31mNameError\u001b[0m: name 'link' is not defined"
     ]
    }
   ],
   "source": [
    "# import \n",
    "link = \n",
    "import requests\n",
    "from bs4 import BeautifulSoup\n",
    "reqs = requests.get(link)\n",
    "soup = BeautifulSoup(reqs.text, 'html.parser')"
   ]
  },
  {
   "cell_type": "code",
   "execution_count": null,
   "id": "6318429e",
   "metadata": {},
   "outputs": [],
   "source": [
    "def cdp_processor_first_release(link, output_folder):\n",
    "    \"\"\"Get the list of the firsts Intel's server processor  that supports CDP\n",
    "        \n",
    "        Args:\n",
    "            link (str) : The link of page containing intel processor\n",
    "            output_folder (str) : output folder to store dataframe as csv\n",
    "        \n",
    "        Returns:\n",
    "        df_cdp_intel_cpu (Dataframe) : The dataframe containing processors \n",
    "    \"\"\"\n",
    "    \n",
    "    # import \n",
    "    import requests\n",
    "    from bs4 import BeautifulSoup\n",
    "    \n",
    "    reqs = requests.get(link)\n",
    "    soup = BeautifulSoup(reqs.text, 'html.parser')\n",
    "    \n",
    "    table = soup.find('table', attrs={'id': \"product-table\"})\n",
    "    table_data = table.find_all('tr')\n",
    "\n",
    "    table_headings = []\n",
    "\n",
    "    for th in table_data[0].find_all('th'):\n",
    "        table_headings.append(th.text)\n",
    "    table_headings = [head_elt.replace('\\n','').strip() for head_elt in table_headings]\n",
    "    \n",
    "    df_cdp_intel_cpu = pd.DataFrame(columns=table_headings)\n",
    "    \n",
    "    # Create a for loop to fill df\n",
    "    for j in table_data[1:]:\n",
    "        row_data = j.find_all('td')\n",
    "        row = [i.text.replace('\\n','').strip() for i in row_data]   \n",
    "        length = len(df_cdp_intel_cpu)\n",
    "        df_cdp_intel_cpu.loc[length] = row\n",
    "    \n",
    "      #export to csv\n",
    "    df_cdp_intel_cpu.to_csv(output_folder+\"/\"+\"cdp_intel.csv\")\n",
    "    \n",
    "    return df_cdp_intel_cpu"
   ]
  },
  {
   "cell_type": "code",
   "execution_count": 26,
   "id": "0a4cbbaf",
   "metadata": {},
   "outputs": [],
   "source": [
    "import requests\n",
    "from bs4 import BeautifulSoup\n",
    "link = \"https://nvd.nist.gov/vuln/search/results?form_type=Basic&results_type=overview&query=kernel&search_type=all&isCpeNameSearch=false\" \n",
    "reqs = requests.get(link)\n",
    "soup = BeautifulSoup(reqs.text, 'html.parser')\n",
    "    \n",
    "table = soup.find('table', attrs={'data-testid': \"vuln-results-table\"})\n",
    "table_data = table.find_all('tr')\n",
    "cve = []\n",
    "for i in range(1,len(table_data)):\n",
    "    cve.append(table_data[i].th.a.text)"
   ]
  },
  {
   "cell_type": "code",
   "execution_count": 27,
   "id": "4ac53f4a",
   "metadata": {},
   "outputs": [
    {
     "data": {
      "text/plain": [
       "['CVE-2021-47219',\n",
       " 'CVE-2021-47218',\n",
       " 'CVE-2021-47217',\n",
       " 'CVE-2021-47216',\n",
       " 'CVE-2021-47215',\n",
       " 'CVE-2021-47214',\n",
       " 'CVE-2021-47213',\n",
       " 'CVE-2021-47212',\n",
       " 'CVE-2021-47211',\n",
       " 'CVE-2021-47210',\n",
       " 'CVE-2021-47209',\n",
       " 'CVE-2021-47207',\n",
       " 'CVE-2021-47206',\n",
       " 'CVE-2021-47205',\n",
       " 'CVE-2021-47204',\n",
       " 'CVE-2021-47203',\n",
       " 'CVE-2021-47202',\n",
       " 'CVE-2021-47201',\n",
       " 'CVE-2021-47200',\n",
       " 'CVE-2021-47199']"
      ]
     },
     "execution_count": 27,
     "metadata": {},
     "output_type": "execute_result"
    }
   ],
   "source": [
    "cve"
   ]
  },
  {
   "cell_type": "code",
   "execution_count": null,
   "id": "f7c32919",
   "metadata": {},
   "outputs": [],
   "source": [
    "from splinter import Browser"
   ]
  },
  {
   "cell_type": "code",
   "execution_count": null,
   "id": "7a2b976d",
   "metadata": {},
   "outputs": [],
   "source": [
    "browser = Browser('chrome',headless=True)\n",
    "url = \"https://nvd.nist.gov/vuln/search/results?form_type=Basic&results_type=overview&query=kernel&search_type=all&isCpeNameSearch=false\"\n"
   ]
  },
  {
   "cell_type": "code",
   "execution_count": null,
   "id": "6d735ea1",
   "metadata": {},
   "outputs": [],
   "source": [
    "browser.visit(url)\n",
    "rootHTML = bs(browser.html, 'html.parser')"
   ]
  },
  {
   "cell_type": "code",
   "execution_count": 24,
   "id": "d1b76c9e",
   "metadata": {},
   "outputs": [],
   "source": [
    "for i in range(1,len(table_data)):\n",
    "    cve.append(table_data[i].th.a.text)"
   ]
  },
  {
   "cell_type": "code",
   "execution_count": 25,
   "id": "7e59f616",
   "metadata": {},
   "outputs": [
    {
     "data": {
      "text/plain": [
       "['CVE-2021-47219',\n",
       " 'CVE-2021-47218',\n",
       " 'CVE-2021-47217',\n",
       " 'CVE-2021-47216',\n",
       " 'CVE-2021-47215',\n",
       " 'CVE-2021-47214',\n",
       " 'CVE-2021-47213',\n",
       " 'CVE-2021-47212',\n",
       " 'CVE-2021-47211',\n",
       " 'CVE-2021-47210',\n",
       " 'CVE-2021-47209',\n",
       " 'CVE-2021-47207',\n",
       " 'CVE-2021-47206',\n",
       " 'CVE-2021-47205',\n",
       " 'CVE-2021-47204',\n",
       " 'CVE-2021-47203',\n",
       " 'CVE-2021-47202',\n",
       " 'CVE-2021-47201',\n",
       " 'CVE-2021-47200',\n",
       " 'CVE-2021-47199',\n",
       " 'CVE-2021-47219',\n",
       " 'CVE-2021-47218',\n",
       " 'CVE-2021-47217',\n",
       " 'CVE-2021-47216',\n",
       " 'CVE-2021-47215',\n",
       " 'CVE-2021-47214',\n",
       " 'CVE-2021-47213',\n",
       " 'CVE-2021-47212',\n",
       " 'CVE-2021-47211',\n",
       " 'CVE-2021-47210',\n",
       " 'CVE-2021-47209',\n",
       " 'CVE-2021-47207',\n",
       " 'CVE-2021-47206',\n",
       " 'CVE-2021-47205',\n",
       " 'CVE-2021-47204',\n",
       " 'CVE-2021-47203',\n",
       " 'CVE-2021-47202',\n",
       " 'CVE-2021-47201',\n",
       " 'CVE-2021-47200',\n",
       " 'CVE-2021-47199',\n",
       " 'CVE-2021-47219',\n",
       " 'CVE-2021-47218',\n",
       " 'CVE-2021-47217',\n",
       " 'CVE-2021-47216',\n",
       " 'CVE-2021-47215',\n",
       " 'CVE-2021-47214',\n",
       " 'CVE-2021-47213',\n",
       " 'CVE-2021-47212',\n",
       " 'CVE-2021-47211',\n",
       " 'CVE-2021-47210',\n",
       " 'CVE-2021-47209',\n",
       " 'CVE-2021-47207',\n",
       " 'CVE-2021-47206',\n",
       " 'CVE-2021-47205',\n",
       " 'CVE-2021-47204',\n",
       " 'CVE-2021-47203',\n",
       " 'CVE-2021-47202',\n",
       " 'CVE-2021-47201',\n",
       " 'CVE-2021-47200',\n",
       " 'CVE-2021-47199']"
      ]
     },
     "execution_count": 25,
     "metadata": {},
     "output_type": "execute_result"
    }
   ],
   "source": [
    "cve"
   ]
  },
  {
   "cell_type": "code",
   "execution_count": null,
   "id": "b527985b",
   "metadata": {},
   "outputs": [],
   "source": []
  }
 ],
 "metadata": {
  "kernelspec": {
   "display_name": "Python 3 (ipykernel)",
   "language": "python",
   "name": "python3"
  },
  "language_info": {
   "codemirror_mode": {
    "name": "ipython",
    "version": 3
   },
   "file_extension": ".py",
   "mimetype": "text/x-python",
   "name": "python",
   "nbconvert_exporter": "python",
   "pygments_lexer": "ipython3",
   "version": "3.9.13"
  }
 },
 "nbformat": 4,
 "nbformat_minor": 5
}
