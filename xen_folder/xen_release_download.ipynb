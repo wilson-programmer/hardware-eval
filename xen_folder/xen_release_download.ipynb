{
 "cells": [
  {
   "cell_type": "markdown",
   "id": "ff021851",
   "metadata": {},
   "source": [
    "# Download all xen releases"
   ]
  },
  {
   "cell_type": "code",
   "execution_count": 1,
   "id": "102ee6d7",
   "metadata": {},
   "outputs": [],
   "source": [
    "def xen_releases(url:str, output_file:str):\n",
    "    \n",
    "    import requests\n",
    "    from bs4 import BeautifulSoup\n",
    "    \n",
    "    #List containing all link in the root url \n",
    "    root_links = []\n",
    "    #url = 'https://xenproject.org/xen-project-archives/'\n",
    "    #Get all url \n",
    "    reqs = requests.get(url)\n",
    "    soup = BeautifulSoup(reqs.text, 'html.parser')\n",
    "\n",
    "    for link in soup.find_all('a'):\n",
    "        if not \"https\" in link.get('href'):\n",
    "            pass\n",
    "        else: \n",
    "            #if is_downloadable(link.get('href')):\n",
    "            root_links.append(link.get('href'))\n",
    "    #Prefix of xen releases only\n",
    "    prefix = \"https://xenproject.org/downloads/xen-project-archives/xen-project\"\n",
    "    \n",
    "    #url list of xen releases\n",
    "    xen_releases = [link for link in root_links if prefix in link]\n",
    "    \n",
    "    #url releases series list\n",
    "    release_series=[link for link in xen_releases if len(link.rsplit('/'))<=7]\n",
    "    \n",
    "    #url of release of all series\n",
    "    all_releases = [link for link in xen_releases if len(link.rsplit('/'))>7]\n",
    "    \n",
    "    #Link prefix to download releases\n",
    "    prefix_download_link = \"https://downloads.xenproject.org/release/xen/\"\n",
    "    \n",
    "    #Iterate over all_releases, extract only the release number and combine it with the prefix link and store \n",
    "    # in a file\n",
    "    \n",
    "    for link in all_releases:\n",
    "        xen_release = link.rsplit(\"/\", 2)\n",
    "        long_num = len('.'.join(xen_release[1].rsplit('-')[2:]))\n",
    "        if long_num >=5:\n",
    "            xen_release_num = '.'.join(xen_release[1].rsplit('-')[2:])\n",
    "        else:\n",
    "            xen_release_num = '.'.join(xen_release[1].rsplit('-')[1:])\n",
    "            \n",
    "        url_download_release = \"https://downloads.xenproject.org/release/xen/\"+xen_release_num+\"/xen-\"+xen_release_num+\".tar.gz\"        \n",
    "        with open(output_file, 'a') as f:\n",
    "            f.write(\"\\n\")  \n",
    "            f.write(url_download_release)\n",
    "            "
   ]
  },
  {
   "cell_type": "code",
   "execution_count": 2,
   "id": "7e75c9c4",
   "metadata": {},
   "outputs": [],
   "source": [
    "output_file = \"/home/wilson/Hardware_virtualization/xen_release\"\n",
    "url_xen = \"https://xenproject.org/xen-project-archives/\""
   ]
  },
  {
   "cell_type": "code",
   "execution_count": 3,
   "id": "222204ed",
   "metadata": {},
   "outputs": [],
   "source": [
    "xen_releases(url_xen, output_file)"
   ]
  },
  {
   "cell_type": "markdown",
   "id": "9fe78c08",
   "metadata": {},
   "source": [
    "# Xen Feature graphe sorted by release"
   ]
  },
  {
   "cell_type": "code",
   "execution_count": 121,
   "id": "3f5c79f7",
   "metadata": {},
   "outputs": [],
   "source": [
    "# #Librairies\n",
    "# import os\n",
    "# from glob import glob\n",
    "# import numpy as np\n",
    "# import pandas as pd\n",
    "# import matplotlib.pyplot as plt\n",
    "# import matplotlib\n",
    "# import matplotlib as mpl\n",
    "# from matplotlib.colors import ListedColormap, LinearSegmentedColormap\n",
    "# import seaborn as sns "
   ]
  },
  {
   "cell_type": "code",
   "execution_count": 122,
   "id": "d98d5f51",
   "metadata": {},
   "outputs": [],
   "source": [
    "# #Load file con\n",
    "# path = \"/home/wilson/Hardware_virtualization/xen_feature_release.csv\"\n",
    "# df_releases_xen = pd.read_csv(path)"
   ]
  },
  {
   "cell_type": "code",
   "execution_count": 9,
   "id": "c9284e5c",
   "metadata": {},
   "outputs": [],
   "source": [
    "def plot_xen_feature_releases(input_file_path, output_file_path):\n",
    "    \n",
    "    \n",
    "    #Libraries\n",
    "    import os\n",
    "    from glob import glob\n",
    "    import numpy as np\n",
    "    import pandas as pd\n",
    "    import matplotlib.pyplot as plt\n",
    "    import matplotlib\n",
    "    import matplotlib as mpl\n",
    "    from matplotlib.colors import ListedColormap, LinearSegmentedColormap\n",
    "    import seaborn as sns \n",
    "    \n",
    "    #Read file\n",
    "    df_releases_xen = pd.read_csv(input_file_path)\n",
    "    \n",
    "    # Remove xen prefix in each release\n",
    "    index = df_releases_xen['release']\n",
    "    index = [elt.rsplit('-')[1] for elt in index]\n",
    "    \n",
    "    #Update release name\n",
    "    df_releases_xen['release']=index\n",
    "    \n",
    "    #Set release column as index\n",
    "    df_releases_xen=df_releases_xen.set_index('release')\n",
    "    \n",
    "    # Set up the matplotlib figure\n",
    "    f, ax = plt.subplots(figsize=(12, 10))\n",
    "    font = {'family' : 'serif',\n",
    "            'weight' : 'normal',\n",
    "            'size'   : 6}\n",
    "\n",
    "    matplotlib.rc('font', **font)\n",
    "\n",
    "    colors = [\"lightgray\", (0.286,0.313, 0.341)] \n",
    "    cmap = LinearSegmentedColormap.from_list('Custom', colors, len(colors))\n",
    "    \n",
    "    ax = sns.heatmap(df_releases_xen.T, cmap=cmap, cbar_kws={\"shrink\": .1},\n",
    "                      linewidths=.05, square=True)\n",
    "    ax.set_aspect(1.5)\n",
    "    #ax.tick_params(labelrotation=0)\n",
    "\n",
    "    # Set the colorbar labels\n",
    "    colorbar = ax.collections[0].colorbar\n",
    "    colorbar.set_ticks([0,1])\n",
    "    colorbar.set_ticklabels(['0', '1'])\n",
    "    \n",
    "    # Réduire la taille de la police sur l'axe Y\n",
    "    #ax.yaxis.set_tick_params(labelsize=5.5)\n",
    "    plt.xlabel(\"Xen releases\")\n",
    "    plt.ylabel(\"Hardware features\")\n",
    "    plt.xticks(rotation=90)\n",
    "    #ax.set_xticks(rot)\n",
    "    plt.tight_layout()\n",
    "    #Export to pdf format\n",
    "    plt.savefig(output_file_path+\"/\"+\"xen_features.pdf\", format=\"pdf\", bbox_inches=\"tight\")\n",
    "\n",
    "    #Export to svg format\n",
    "    plt.savefig(output_file_path+\"/\"+\"xen_features.svg\", format=\"svg\", bbox_inches=\"tight\")\n",
    "    #plt.show()\n",
    "\n",
    "    "
   ]
  },
  {
   "cell_type": "code",
   "execution_count": 10,
   "id": "205f0332",
   "metadata": {},
   "outputs": [
    {
     "data": {
      "image/png": "[encoded data removed]",
      "text/plain": [
       "<Figure size 1200x1000 with 2 Axes>"
      ]
     },
     "metadata": {},
     "output_type": "display_data"
    }
   ],
   "source": [
    "# #Load file\n",
    "path = \"xen_feature_release.csv\"\n",
    "plot_xen_feature_releases(path, \"/home/wilson/Hardware_evolution/hardware_evol_hypervisor\")"
   ]
  },
  {
   "cell_type": "code",
   "execution_count": null,
   "id": "596d0817",
   "metadata": {},
   "outputs": [],
   "source": []
  },
  {
   "cell_type": "code",
   "execution_count": null,
   "id": "f19df9bc",
   "metadata": {},
   "outputs": [],
   "source": []
  },
  {
   "cell_type": "markdown",
   "id": "738ba147",
   "metadata": {},
   "source": [
    "# Intel processor for each feature"
   ]
  },
  {
   "cell_type": "markdown",
   "id": "374f98fa",
   "metadata": {},
   "source": [
    "All intel processor are in Scrape_intel_processor.ipynb"
   ]
  },
  {
   "cell_type": "markdown",
   "id": "eea0a4b4",
   "metadata": {},
   "source": [
    "**Get first intel server to incorporate each feature**"
   ]
  },
  {
   "cell_type": "markdown",
   "id": "3a71ec83",
   "metadata": {},
   "source": [
    "<font color=blue>***Extended Page Tables***</font>"
   ]
  },
  {
   "cell_type": "code",
   "execution_count": 1,
   "id": "f7a0a813",
   "metadata": {},
   "outputs": [],
   "source": [
    "# import os\n",
    "# import numpy as np\n",
    "# import pandas as pd\n",
    "# import requests\n",
    "# from bs4 import BeautifulSoup"
   ]
  },
  {
   "cell_type": "code",
   "execution_count": 2,
   "id": "7a0a1b19",
   "metadata": {},
   "outputs": [
    {
     "data": {
      "text/plain": [
       "14"
      ]
     },
     "execution_count": 2,
     "metadata": {},
     "output_type": "execute_result"
    }
   ],
   "source": [
    "# table = pd.read_html(\"https://en.wikipedia.org/wiki/List_of_Intel_Xeon_processors_(Nehalem-based)\")\n",
    "# len(table)"
   ]
  },
  {
   "cell_type": "code",
   "execution_count": 95,
   "id": "07fbe6d9",
   "metadata": {},
   "outputs": [],
   "source": [
    "def ept_processor_first_release(link, output_folder):\n",
    "    \"\"\"Get the list of the firsts Intel's server processor  that supports EPT\n",
    "        \n",
    "        Args:\n",
    "            link (str) : The link of page containing intel processor\n",
    "            output_folder (str) : output folder to store dataframe as csv\n",
    "        \n",
    "        Returns:\n",
    "        df_ept_intel_cpu (Dataframe) : The dataframe containing processors \n",
    "    \"\"\"\n",
    "    \n",
    "    # import \n",
    "    import numpy as np\n",
    "    import pandas as pd\n",
    "    \n",
    "    df_ept_intel_cpu = pd.read_html(link)\n",
    "    \n",
    "    df_ept_intel_cpu = pd.DataFrame()\n",
    "    \n",
    "    for i in range(10):\n",
    "        df_ept_intel_cpu = pd.concat([df_ept_intel_cpu, table[i]], ignore_index=False)\n",
    "    \n",
    "    #Row container some unnessary row\n",
    "    patternDel = \"Core\"\n",
    "    filters = df_ept_intel_cpu['Model number'].str.contains(patternDel)\n",
    "    df_ept_intel_cpu = df_ept_intel_cpu[~filters]\n",
    "    df_ept_intel_cpu = df_ept_intel_cpu.reset_index(drop=True)\n",
    "    \n",
    "    #export to csv\n",
    "    df_ept_intel_cpu.to_csv(output_folder+\"/\"+\"ept_intel.csv\")\n",
    "    \n",
    "    \n",
    "    return df_ept_intel_cpu\n",
    "    "
   ]
  },
  {
   "cell_type": "code",
   "execution_count": 2,
   "id": "ee075352",
   "metadata": {},
   "outputs": [],
   "source": [
    "# output_folder = \"/home/wilson/Hardware_virtualization\"\n",
    "# link = \"https://en.wikipedia.org/wiki/List_of_Intel_Xeon_processors_(Nehalem-based)\"\n",
    "# ept=ept_processor_first_release(link, output_folder)"
   ]
  },
  {
   "cell_type": "code",
   "execution_count": 3,
   "id": "bb7dacb1",
   "metadata": {},
   "outputs": [],
   "source": [
    "# ept"
   ]
  },
  {
   "cell_type": "code",
   "execution_count": null,
   "id": "5b2f0df6",
   "metadata": {},
   "outputs": [],
   "source": []
  },
  {
   "cell_type": "markdown",
   "id": "8a59686d",
   "metadata": {},
   "source": [
    "<font color=blue>***Virtual processor Identification***</font>"
   ]
  },
  {
   "cell_type": "code",
   "execution_count": 160,
   "id": "a795183e",
   "metadata": {},
   "outputs": [],
   "source": [
    "#Firsts Intel's processors to incorporate VPID\n",
    "vpid_link = \"https://www.intel.fr/content/www/fr/fr/content-details/803591/dual-core-intel-r-xeon-r-processor-5100-3000-series-and-quad-core-intel-r-xeon-r-processor-5300-\\\n",
    "pcn-107455-01-order-code-s-spec-mm-change-correcting-boxed-woodcrest-3-ghz-product-information-reason-for-revision-correcting-boxed-woodcrest-3.html\"\n",
    "\n",
    "#Link of some processor\n",
    "vpid_family = \"https://www.techpowerup.com/cpu-specs/#Woodcrest\""
   ]
  },
  {
   "cell_type": "code",
   "execution_count": null,
   "id": "7938718d",
   "metadata": {},
   "outputs": [],
   "source": []
  },
  {
   "cell_type": "markdown",
   "id": "dfb2f073",
   "metadata": {},
   "source": [
    "<font color=blue>***Code Data and Prioritization***</font>"
   ]
  },
  {
   "cell_type": "code",
   "execution_count": 5,
   "id": "8dc68e7c",
   "metadata": {},
   "outputs": [],
   "source": [
    "def cdp_processor_first_release(link, output_folder):\n",
    "    \"\"\"Get the list of the firsts Intel's server processor  that supports CDP\n",
    "        \n",
    "        Args:\n",
    "            link (str) : The link of page containing intel processor\n",
    "            output_folder (str) : output folder to store dataframe as csv\n",
    "        \n",
    "        Returns:\n",
    "        df_cdp_intel_cpu (Dataframe) : The dataframe containing processors \n",
    "    \"\"\"\n",
    "    \n",
    "    # import \n",
    "    import requests\n",
    "    from bs4 import BeautifulSoup\n",
    "    \n",
    "    reqs = requests.get(link)\n",
    "    soup = BeautifulSoup(reqs.text, 'html.parser')\n",
    "    \n",
    "    table = soup.find('table', attrs={'id': \"product-table\"})\n",
    "    table_data = table.find_all('tr')\n",
    "\n",
    "    table_headings = []\n",
    "\n",
    "    for th in table_data[0].find_all('th'):\n",
    "        table_headings.append(th.text)\n",
    "    table_headings = [head_elt.replace('\\n','').strip() for head_elt in table_headings]\n",
    "    \n",
    "    df_cdp_intel_cpu = pd.DataFrame(columns=table_headings)\n",
    "    \n",
    "    # Create a for loop to fill df\n",
    "    for j in table_data[1:]:\n",
    "        row_data = j.find_all('td')\n",
    "        row = [i.text.replace('\\n','').strip() for i in row_data]   \n",
    "        length = len(df_cdp_intel_cpu)\n",
    "        df_cdp_intel_cpu.loc[length] = row\n",
    "    \n",
    "      #export to csv\n",
    "    df_cdp_intel_cpu.to_csv(output_folder+\"/\"+\"cdp_intel.csv\")\n",
    "    \n",
    "    return df_cdp_intel_cpu"
   ]
  }
 ],
 "metadata": {
  "kernelspec": {
   "display_name": "Python 3 (ipykernel)",
   "language": "python",
   "name": "python3"
  },
  "language_info": {
   "codemirror_mode": {
    "name": "ipython",
    "version": 3
   },
   "file_extension": ".py",
   "mimetype": "text/x-python",
   "name": "python",
   "nbconvert_exporter": "python",
   "pygments_lexer": "ipython3",
   "version": "3.9.13"
  }
 },
 "nbformat": 4,
 "nbformat_minor": 5
}
