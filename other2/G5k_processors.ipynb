{
 "cells": [
  {
   "cell_type": "code",
   "execution_count": 1,
   "metadata": {},
   "outputs": [],
   "source": [
    "import requests\n",
    "from bs4 import BeautifulSoup\n",
    "import json"
   ]
  },
  {
   "cell_type": "code",
   "execution_count": 2,
   "metadata": {},
   "outputs": [],
   "source": [
    "url= \"https://www.grid5000.fr/w/Hardware\"\n",
    "\n",
    "response = requests.get(url)"
   ]
  },
  {
   "cell_type": "code",
   "execution_count": 11,
   "metadata": {},
   "outputs": [],
   "source": [
    "file_name = \"g5k_processors.json\"\n",
    "\n",
    "soup = BeautifulSoup(response.content, \"html.parser\")"
   ]
  },
  {
   "cell_type": "code",
   "execution_count": 17,
   "metadata": {},
   "outputs": [],
   "source": [
    "table = soup.find_all('table')[0]\n",
    "rows = table.find_all('tr')[2:]\n",
    "\n",
    "info_dict = dict()\n",
    "\n",
    "for row in rows:\n",
    "    data = row.find_all('td')\n",
    "    site = data[0].text.strip()\n",
    "    cluster = data[1].text.strip()\n",
    "    arrival_date = data[3].text.strip()\n",
    "    manu_date = data[4].text.strip()\n",
    "    name = data[7].text.strip()\n",
    "    arch = data[9].text.strip()\n",
    "\n",
    "    entry = {\n",
    "                # \"cluster\": cluster,\n",
    "                \"site\": site,\n",
    "                \"arrival_date\": arrival_date,\n",
    "                \"manufacturing_date\": manu_date,\n",
    "                \"processor\": name,\n",
    "                \"arch\": arch\n",
    "            }\n",
    "    info_dict[cluster] = entry\n",
    "    # if site in info_dict.keys():\n",
    "    #     info_dict[site.lower()].append(entry)\n",
    "    # else:\n",
    "    #     info_dict[site.lower()] = [entry]\n",
    "\n",
    "\n",
    "# processor_file = open(file_name, 'w')\n",
    "processor_file = open(\"g5k_cluster_info.json\", 'w')\n",
    "json.dump(info_dict, processor_file)\n",
    "processor_file.close()"
   ]
  }
 ],
 "metadata": {
  "kernelspec": {
   "display_name": "Python 3 (ipykernel)",
   "language": "python",
   "name": "python3"
  },
  "language_info": {
   "codemirror_mode": {
    "name": "ipython",
    "version": 3
   },
   "file_extension": ".py",
   "mimetype": "text/x-python",
   "name": "python",
   "nbconvert_exporter": "python",
   "pygments_lexer": "ipython3",
   "version": "3.9.13"
  }
 },
 "nbformat": 4,
 "nbformat_minor": 2
}
